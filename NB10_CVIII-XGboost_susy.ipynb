{
  "nbformat": 4,
  "nbformat_minor": 0,
  "metadata": {
    "anaconda-cloud": {},
    "kernelspec": {
      "display_name": "Python 3",
      "language": "python",
      "name": "python3"
    },
    "language_info": {
      "codemirror_mode": {
        "name": "ipython",
        "version": 3
      },
      "file_extension": ".py",
      "mimetype": "text/x-python",
      "name": "python",
      "nbconvert_exporter": "python",
      "pygments_lexer": "ipython3",
      "version": "3.6.8"
    },
    "colab": {
      "name": "NB10_CVIII-XGboost_susy.ipynb",
      "provenance": []
    }
  },
  "cells": [
    {
      "cell_type": "markdown",
      "metadata": {
        "id": "3VdiW9ua1r2H",
        "colab_type": "text"
      },
      "source": [
        "# Notebook 10: XGBoost, Gradient Boosted Trees, and SUSY"
      ]
    },
    {
      "cell_type": "markdown",
      "metadata": {
        "id": "7GNcSW4J1r2J",
        "colab_type": "text"
      },
      "source": [
        "## Learning Goal\n",
        "The goal of this notebook is to familiarize the reader with the powerful package XGBoost for constructing gradient boosted trees. We will discuss how to visualize feature importances as well as techniques for optimizing XGBoost.\n",
        "\n",
        "## Overview\n",
        "\n",
        "In this notebook, we will focus on using Gradient Boosted Trees (in particular XGBoost) to classify the supersymmetry (SUSY) dataset, first introduced by [Baldi et al. Nature Communication 2015 and Arxiv:1402.4735](https://arxiv.org/pdf/1402.4735.pdf). The supersymmetry data set consists of 5,000,000 Monte-Carlo samples of supersymmetric and non-supersymmetric collisions with 18 features. The signal process is the production of electrically-charged\n",
        "supersymmetric particles which decay to W bosons and an electrically-neutral supersymmetric\n",
        "particle that is invisible to the detector. \n",
        "\n",
        "The first 8 features are \"raw\" (low-level) kinematic features that can be directly measured from collisions. The final 10 features are \"hand constructed\" (high-level) features that have been chosen using physical knowledge, and are known to be important in distinguishing supersymmetric and non-supersymmetric collision events. More specifically, they are given by the column names below.\n",
        "\n",
        "We will drawn upon the useful [blog posts](https://jessesw.com/XG-Boost/)\n",
        "that compactly introduces many of the basics of hyperparameter tuning. As we will see, there are many practical trade-offs we have to worry about. Unlike Random Forests, for more complicated algorithms such as XGBoost, overfitting can be a major worry. It is also extremely computationally expensive to do hyperparameter searches. However, this notebook should get you started on these interesting methods.\n",
        "\n",
        "## Downloading the SUSY dataset\n",
        "The supersymmetry dataset can be downloaded from the UCI Machine Learning repository on [https://archive.ics.uci.edu/ml/machine-learning-databases/00279/SUSY.csv.gz](https://archive.ics.uci.edu/ml/machine-learning-databases/00279/SUSY.csv.gz). The dataset is quite large. Download the dataset and unzip it in a directory. We will be using this dataset with gradient boosted trees. We will focus on the XGBoost aglorithm.\n",
        "\n",
        "## Installing XGBoost\n",
        "\n",
        "If you have not already done so, you will also have to install the XGBoost python package, see e.g. [https://github.com/dmlc/xgboost/tree/master/python-package](https://github.com/dmlc/xgboost/tree/master/python-package). The easiest way to do this is to clone the Github repository, navigate to this directory, and\n",
        "use the pip command: <span style=\"background-color:yellow\">pip install xgboost</span>. Alternatively, one can use Anacodna: <span style=\"background-color:yellow\">conda install -c conda-forge xgboost</span>. "
      ]
    },
    {
      "cell_type": "code",
      "metadata": {
        "id": "4m_bFSmL5mqu",
        "colab_type": "code",
        "colab": {
          "base_uri": "https://localhost:8080/",
          "height": 34
        },
        "outputId": "9b28e982-0c0a-487c-cba1-c1980fc1aef7"
      },
      "source": [
        "# Mount Google Drive for storage to run on Colab\n",
        "# Comment out these lines when running locally\n",
        "from google.colab import drive\n",
        "drive.mount('/content/drive')\n"
      ],
      "execution_count": 18,
      "outputs": [
        {
          "output_type": "stream",
          "text": [
            "Drive already mounted at /content/drive; to attempt to forcibly remount, call drive.mount(\"/content/drive\", force_remount=True).\n"
          ],
          "name": "stdout"
        }
      ]
    },
    {
      "cell_type": "code",
      "metadata": {
        "id": "x35QygVf6EqX",
        "colab_type": "code",
        "colab": {
          "base_uri": "https://localhost:8080/",
          "height": 69
        },
        "outputId": "67d1ba04-a0d5-4fae-8ea3-a15b91836131"
      },
      "source": [
        "#Change to the storage directory\n",
        "%cd \"drive/My Drive/Colab Notebooks\"\n",
        "%pwd"
      ],
      "execution_count": 28,
      "outputs": [
        {
          "output_type": "stream",
          "text": [
            "[Errno 2] No such file or directory: 'drive/My Drive/Colab Notebooks'\n",
            "/content/drive/My Drive/Colab Notebooks\n"
          ],
          "name": "stdout"
        },
        {
          "output_type": "execute_result",
          "data": {
            "text/plain": [
              "'/content/drive/My Drive/Colab Notebooks'"
            ]
          },
          "metadata": {
            "tags": []
          },
          "execution_count": 28
        }
      ]
    },
    {
      "cell_type": "markdown",
      "metadata": {
        "id": "wNHa2sos1r2L",
        "colab_type": "text"
      },
      "source": [
        "## Load in dataset and construct training and test set"
      ]
    },
    {
      "cell_type": "code",
      "metadata": {
        "id": "MWAWdU861r2N",
        "colab_type": "code",
        "colab": {
          "base_uri": "https://localhost:8080/",
          "height": 34
        },
        "outputId": "39cdf88b-e395-49c3-dd19-13004c197da3"
      },
      "source": [
        "#Load the dataset using pandas and numpy\n",
        "\n",
        "import pandas as pd\n",
        "import numpy as np\n",
        "from sklearn.model_selection import train_test_split\n",
        "\n",
        "#url\n",
        "url='https://archive.ics.uci.edu/ml/machine-learning-databases/00279/SUSY.csv.gz'\n",
        "\n",
        "#Read in SUSY File. We will only work with subset of data for demonstration purposes.\n",
        "\n",
        "features=['SUSY','lepton 1 pT', 'lepton 1 eta', 'lepton 1 phi', 'lepton 2 pT', 'lepton 2 eta', 'lepton 2 phi', \n",
        " 'missing energy magnitude', 'missing energy phi', 'MET_rel', 'axial MET', 'M_R', 'M_TR_2', 'R', 'MT2', \n",
        " 'S_R', 'M_Delta_R', 'dPhi_r_b', 'cos(theta_r1)']\n",
        "\n",
        "low_features=['lepton 1 pT', 'lepton 1 eta', 'lepton 1 phi', 'lepton 2 pT', 'lepton 2 eta', 'lepton 2 phi', \n",
        " 'missing energy magnitude', 'missing energy phi']\n",
        "\n",
        "high_features=['MET_rel', 'axial MET', 'M_R', 'M_TR_2', 'R', 'MT2','S_R', 'M_Delta_R', 'dPhi_r_b', 'cos(theta_r1)']\n",
        "\n",
        "#Number of datapoints to work with\n",
        "N = 100000\n",
        "print(\"Size of dataset : %i\"%N)\n",
        "df = pd.read_csv(url, header=None,nrows=N,engine='python')\n",
        "df.columns=features\n",
        "y = df['SUSY'].values\n",
        "X = df[[col for col in df.columns if col!=\"SUSY\"]]\n",
        "\n",
        "#Make datasets using only the 8 low-level features and 10 high-level features\n",
        "X_low=X[low_features]\n",
        "X_high=X[high_features]\n",
        "X_train, X_test, y_train, y_test = train_test_split(X, y, test_size=.1, random_state=0)\n",
        "X_low_train, X_low_test, y_low_train, y_low_test = train_test_split(X_low, y, test_size=.1, random_state=0)\n",
        "X_high_train, X_high_test, y_high_train, y_high_test = train_test_split(X_high, y, test_size=.1, random_state=0)"
      ],
      "execution_count": 10,
      "outputs": [
        {
          "output_type": "stream",
          "text": [
            "Size of dataset : 100000\n"
          ],
          "name": "stdout"
        }
      ]
    },
    {
      "cell_type": "code",
      "metadata": {
        "id": "7CkHsKMm9DOI",
        "colab_type": "code",
        "colab": {}
      },
      "source": [
        "df.to_pickle('SUSY.tgz')"
      ],
      "execution_count": 0,
      "outputs": []
    },
    {
      "cell_type": "markdown",
      "metadata": {
        "id": "7J0kbCsh1r2d",
        "colab_type": "text"
      },
      "source": [
        "# Train and test models"
      ]
    },
    {
      "cell_type": "code",
      "metadata": {
        "id": "1B12KkiZ1r2e",
        "colab_type": "code",
        "colab": {
          "base_uri": "https://localhost:8080/",
          "height": 434
        },
        "outputId": "713afd29-61b1-4b79-9b57-3b7bb536857e"
      },
      "source": [
        "# For next cell\n",
        "from sklearn.metrics import roc_auc_score\n",
        "import time\n",
        "import xgboost as xgb\n",
        "import warnings\n",
        "\n",
        "warnings.filterwarnings(action='ignore', category=DeprecationWarning)\n",
        "\n",
        "print(\"Training on %i examples with %i features\"%X_train.shape)\n",
        "\n",
        "#Use default parameters and train on full dataset\n",
        "XGBclassifier = xgb.sklearn.XGBClassifier(nthread=-1, seed=1, n_estimators=1000)\n",
        "#Train and time classifier\n",
        "start_time = time.time()\n",
        "XGBclassifier.fit(X_train, y_train)\n",
        "run_time = time.time() - start_time\n",
        "\n",
        "#Make Predictions\n",
        "print(\"Predicting on %i examples with %i features\\n\"%X_test.shape)\n",
        "y_pred= XGBclassifier.predict(X_test)\n",
        "\n",
        "#Print Results\n",
        "print(\"Model Accuracy with all features: {:.2f}%\".format(100*XGBclassifier.score(X_test, y_test)))\n",
        "print(\"The AUC score with all features is {:.2f}\".format(roc_auc_score(y_test,y_pred)))\n",
        "print(\"Run time with all features: {:.2f} sec\\n\\n\".format(run_time))\n",
        "\n",
        "\n",
        "#Rerun with just low-level kinematic features with default parameters\n",
        "\n",
        "print(\"Training on %i examples with %i features\"%X_low_train.shape)\n",
        "XGBclassifier_low = xgb.sklearn.XGBClassifier(nthread=-1, seed=1)\n",
        "#Train and time classifier\n",
        "start_time = time.time()\n",
        "XGBclassifier_low.fit(X_low_train, y_low_train)\n",
        "run_time = time.time() - start_time\n",
        "\n",
        "#Make Predictions\n",
        "print(\"Predicting on %i examples with %i features\\n\"%X_low_test.shape)\n",
        "y_low_pred = XGBclassifier_low.predict(X_low_test)\n",
        "\n",
        "#Print Results\n",
        "print(\"Model Accuracy with just low-level kinematic features: {:.2f}%\".format(100*XGBclassifier_low.score(X_low_test, y_low_test)))\n",
        "print(\"The low-level AUC score is {:.2f}\".format(roc_auc_score(y_test,y_low_pred)))\n",
        "print(\"Run time with low-level features: {:.2f} sec\\n\\n\".format(run_time))\n",
        "\n",
        "\n",
        "#Rerun with just high-level kinematic features with default parameters\n",
        "\n",
        "print(\"Training on %i examples with %i features\\n\"%X_high_train.shape)\n",
        "XGBclassifier_high = xgb.sklearn.XGBClassifier(nthread=-1, seed=1)\n",
        "#Train and time classifier\n",
        "start_time = time.time()\n",
        "XGBclassifier_high.fit(X_high_train, y_high_train)\n",
        "run_time = time.time() - start_time\n",
        "\n",
        "print(\"Training on %i examples with %i features\"%X_high_test.shape)\n",
        "#Make Predictions\n",
        "y_high_pred = XGBclassifier_high.predict(X_high_test)\n",
        "\n",
        "#Print Results\n",
        "print(\"Model Accuracy with just high-level features: {:.2f}%\".format(100*XGBclassifier_low.score(X_low_test, y_low_test)))\n",
        "print(\"The high-level AUC score is {:.2f}\".format(roc_auc_score(y_test,y_high_pred)))\n",
        "print(\"Run time with high-level features: {:.2f} sec\\n\\n\".format(run_time))"
      ],
      "execution_count": 20,
      "outputs": [
        {
          "output_type": "stream",
          "text": [
            "Training on 90000 examples with 18 features\n",
            "Predicting on 10000 examples with 18 features\n",
            "\n",
            "Model Accuracy with all features: 79.50%\n",
            "The AUC score with all features is 0.79\n",
            "Run time with all features: 122.71 sec\n",
            "\n",
            "\n",
            "Training on 90000 examples with 8 features\n",
            "Predicting on 10000 examples with 8 features\n",
            "\n",
            "Model Accuracy with just low-level kinematic features: 78.18%\n",
            "The low-level AUC score is 0.78\n",
            "Run time with low-level features: 6.87 sec\n",
            "\n",
            "\n",
            "Training on 90000 examples with 10 features\n",
            "\n",
            "Training on 10000 examples with 10 features\n",
            "Model Accuracy with just high-level features: 78.18%\n",
            "The high-level AUC score is 0.78\n",
            "Run time with high-level features: 7.62 sec\n",
            "\n",
            "\n"
          ],
          "name": "stdout"
        }
      ]
    },
    {
      "cell_type": "markdown",
      "metadata": {
        "id": "9s8J_lQ61r2m",
        "colab_type": "text"
      },
      "source": [
        "## Visualizing Feature Importance\n",
        "\n",
        "One nice aspect of XGBoost (and ensemble methods in general) is that it is easy to visualize feature importances. In XGBoost, there are some handy plots for viewing these (similar functions also exist for the scikit implementation of random forests). One thing we can calculate is the feature importance score (Fscore), which measures how many times each feature was split on. The higher this number, the more fine-tuned the partitions in this direction, and presumably the more informative it is for our classification task.\n"
      ]
    },
    {
      "cell_type": "code",
      "metadata": {
        "id": "QdfpIKmc1r2o",
        "colab_type": "code",
        "colab": {
          "base_uri": "https://localhost:8080/",
          "height": 851
        },
        "outputId": "86728719-eece-4b1f-a537-8a1052bda97b"
      },
      "source": [
        "#import ml_style as style\n",
        "import matplotlib as mpl\n",
        "#mpl.rcParams.update(style.style)\n",
        "import matplotlib.pyplot as plt\n",
        "\n",
        "\n",
        "%matplotlib inline  \n",
        "\n",
        "fig=plt.figure()\n",
        "xgb.plot_importance(XGBclassifier, ax=plt.gca())\n",
        "fig.subplots_adjust(left=0.4)  #\n",
        "#fig.savefig('SUSYXGBoost1.pdf')\n",
        "\n",
        "fig=plt.figure()\n",
        "xgb.plot_importance(XGBclassifier_low, ax=plt.gca())\n",
        "fig.subplots_adjust(left=0.4)\n",
        "#fig.savefig('SUSYXGBoost2.pdf')\n",
        "fig=plt.figure()\n",
        "xgb.plot_importance(XGBclassifier_high, ax=plt.gca())\n",
        "fig.subplots_adjust(left=0.4)\n",
        "#fig.savefig('SUSYXGBoost3.pdf')\n"
      ],
      "execution_count": 21,
      "outputs": [
        {
          "output_type": "display_data",
          "data": {
            "image/png": "[encoded data removed]",
            "text/plain": [
              "<Figure size 432x288 with 1 Axes>"
            ]
          },
          "metadata": {
            "tags": [],
            "needs_background": "light"
          }
        },
        {
          "output_type": "display_data",
          "data": {
            "image/png": "[encoded data removed]",
            "text/plain": [
              "<Figure size 432x288 with 1 Axes>"
            ]
          },
          "metadata": {
            "tags": [],
            "needs_background": "light"
          }
        },
        {
          "output_type": "display_data",
          "data": {
            "image/png": "[encoded data removed]",
            "text/plain": [
              "<Figure size 432x288 with 1 Axes>"
            ]
          },
          "metadata": {
            "tags": [],
            "needs_background": "light"
          }
        }
      ]
    },
    {
      "cell_type": "markdown",
      "metadata": {
        "collapsed": true,
        "id": "z9NZZav31r2u",
        "colab_type": "text"
      },
      "source": [
        "## Plot ROC curves\n",
        "\n",
        "This simple example shows that with the default parameters one can already achieve an accuracy of about 80 percent using all the features (kinematic and hand crafted), and a slightly smaller accuracy of about 78.75% using just the kinematic features.  Both achieve a very respectable AUC (area under the ROC curve, see [https://en.wikipedia.org/wiki/Receiver_operating_characteristic](https://en.wikipedia.org/wiki/Receiver_operating_characteristic)) score of around 0.78 or 0.79. This is significantly better than that achieved using Boosted Decision Trees (though not deep neural networks) in the original [paper](https://www.nature.com/articles/ncomms5308), even without tuning hyperparameters. Furthermore, we are using only a small subset of all the data (100,000 out of a total of 5,000,000 datapoints) so this performance is a lower bound on what can be accomplished with XGBoost. Note that there are only three points on the curve so the ROC does not contain much information beyond the accuracy.\n",
        "\n",
        "We can summarize this by plotting the ROC curves for these three models. Recall that ROC curves plot the true positive rate. Here, we will use the modified version used in high-energy physics plotting the true negative rate (Background rejection) against the true positive rate (signal efficiency).\n"
      ]
    },
    {
      "cell_type": "code",
      "metadata": {
        "id": "FPaQ4sEQ1r2w",
        "colab_type": "code",
        "colab": {
          "base_uri": "https://localhost:8080/",
          "height": 279
        },
        "outputId": "0a6ed985-9ed3-4d3d-f5a0-ee8bf22bba76"
      },
      "source": [
        "from sklearn.metrics import roc_curve\n",
        "\n",
        "\n",
        "%matplotlib inline  \n",
        "\n",
        "fpr, tpr, _ = roc_curve(y_test, y_pred)\n",
        "fpr_low, tpr_low, _ = roc_curve(y_test, y_low_pred)\n",
        "fpr_high, tpr_high, _ = roc_curve(y_test, y_high_pred)\n",
        "plt.figure(1)\n",
        "plt.plot(tpr, 1-fpr, label='Full')\n",
        "plt.plot(tpr_low, 1-fpr_low, label='Low')\n",
        "plt.plot(tpr_high, 1-fpr_high, label='High')\n",
        "plt.legend(loc=1)\n",
        "plt.xlabel('Signal efficiency')\n",
        "plt.ylabel('Background Rejection')\n",
        "plt.savefig(\"SUSY_roc_XGBoost.pdf\")\n",
        "\n"
      ],
      "execution_count": 22,
      "outputs": [
        {
          "output_type": "display_data",
          "data": {
            "image/png": "[encoded data removed]",
            "text/plain": [
              "<Figure size 432x288 with 1 Axes>"
            ]
          },
          "metadata": {
            "tags": [],
            "needs_background": "light"
          }
        }
      ]
    },
    {
      "cell_type": "markdown",
      "metadata": {
        "id": "PuRb2wX_1r24",
        "colab_type": "text"
      },
      "source": [
        "## Optimizing XGBoost\n",
        "\n",
        "We will now optimize the parameters of the XGBoost algorithm by performing a grid search. We will use the very useful new function from scikit-learn `GridSearchCV()`. This function allows you to specify lists of parameters to search over.\n",
        "\n",
        "Let us briefly discuss what parameters we can tune to improve performance with descriptions:\n",
        "\n",
        "* `max_depth` [default=6]: maximum depth of a tree, increasing this value will make the model more complex / likely to overfit.\n",
        "\n",
        "* `eta` or 'learning_rate'[default =0.3]: step size shrinkage used in update to prevent overfitting. After each boosting step, we can directly get the weights of new features. `eta` actually shrinks the feature weights to make the boosting process more conservative.\n",
        "\n",
        "* `gamma` or min-split-loss [default=0]: This is the penalty that regularizes the number of leaves. The larger, the more conservative the algorithm will be. \n",
        "\n",
        "* `min_child_weight` [default=1]: In linear regression mode, this simply corresponds to the minimum number of instances needed to be in each node (min $B_j$ in notation of manuscript). The larger, the more conservative the algorithm will be. More generally, it is the minimum sum of instance weight (Hessian) needed in a child. If the tree partition step results in a leaf node with the sum of instance weight less than min_child_weight, then the building process will give up further partitioning. \n",
        "\n",
        "\n",
        "As you can see this cross-validation procedure is quite computationally expensive. With the parameters below, it takes somewhere between 2 and 5 minutes on a powerful laptop. In the cell below, we perform the search and examine the results in the subsequent results."
      ]
    },
    {
      "cell_type": "code",
      "metadata": {
        "scrolled": false,
        "id": "38y43Cho1r24",
        "colab_type": "code",
        "colab": {
          "base_uri": "https://localhost:8080/",
          "height": 1000
        },
        "outputId": "417ea6ea-943d-430a-a965-60c0b8cddbed"
      },
      "source": [
        "from sklearn.model_selection import GridSearchCV \n",
        "\n",
        "#Create values to search over\n",
        "cv_params = {'max_depth': [3,4,6], 'min_child_weight': [1,3,5], 'learning_rate':[0.1,0.3]}\n",
        "ind_params = {'n_estimators': 100, 'seed':1, 'colsample_bytree': 1, \n",
        "             'objective': 'binary:logistic'}\n",
        "opt_XGBclassifier = GridSearchCV(xgb.XGBClassifier(**ind_params), \n",
        "                            cv_params, \n",
        "                             scoring = 'accuracy', cv = 5, n_jobs = -1, verbose=3)\n",
        "\n",
        "opt_XGBclassifier.fit(X_train, y_train)\n",
        "print(\"Best parameters:\", opt_XGBclassifier.best_params_)\n",
        "opt_XGBclassifier.cv_results_"
      ],
      "execution_count": 23,
      "outputs": [
        {
          "output_type": "stream",
          "text": [
            "Fitting 5 folds for each of 18 candidates, totalling 90 fits\n"
          ],
          "name": "stdout"
        },
        {
          "output_type": "stream",
          "text": [
            "[Parallel(n_jobs=-1)]: Using backend LokyBackend with 2 concurrent workers.\n",
            "[Parallel(n_jobs=-1)]: Done  28 tasks      | elapsed:  4.8min\n",
            "[Parallel(n_jobs=-1)]: Done  90 out of  90 | elapsed: 18.0min finished\n"
          ],
          "name": "stderr"
        },
        {
          "output_type": "stream",
          "text": [
            "Best parameters: {'learning_rate': 0.1, 'max_depth': 6, 'min_child_weight': 5}\n"
          ],
          "name": "stdout"
        },
        {
          "output_type": "execute_result",
          "data": {
            "text/plain": [
              "{'mean_fit_time': array([17.65366426, 17.56907949, 17.54188242, 23.31681495, 23.14156032,\n",
              "        22.75377345, 34.53072672, 33.58573494, 33.36280699, 16.16894164,\n",
              "        15.89903884, 15.87174835, 20.87007785, 20.80498214, 20.81932673,\n",
              "        31.93816857, 31.23319774, 28.93995328]),\n",
              " 'mean_score_time': array([0.0894453 , 0.08402729, 0.08394947, 0.10690465, 0.10535131,\n",
              "        0.10702929, 0.1439445 , 0.14339452, 0.14594617, 0.08306842,\n",
              "        0.08142133, 0.08260422, 0.10454698, 0.10322247, 0.10397348,\n",
              "        0.15108333, 0.147686  , 0.14473009]),\n",
              " 'mean_test_score': array([0.79426667, 0.79466667, 0.79415556, 0.79672222, 0.79645556,\n",
              "        0.79605556, 0.79694444, 0.79683333, 0.79707778, 0.79637778,\n",
              "        0.79611111, 0.79632222, 0.796     , 0.79607778, 0.79577778,\n",
              "        0.79385556, 0.7939    , 0.79396667]),\n",
              " 'param_learning_rate': masked_array(data=[0.1, 0.1, 0.1, 0.1, 0.1, 0.1, 0.1, 0.1, 0.1, 0.3, 0.3,\n",
              "                    0.3, 0.3, 0.3, 0.3, 0.3, 0.3, 0.3],\n",
              "              mask=[False, False, False, False, False, False, False, False,\n",
              "                    False, False, False, False, False, False, False, False,\n",
              "                    False, False],\n",
              "        fill_value='?',\n",
              "             dtype=object),\n",
              " 'param_max_depth': masked_array(data=[3, 3, 3, 4, 4, 4, 6, 6, 6, 3, 3, 3, 4, 4, 4, 6, 6, 6],\n",
              "              mask=[False, False, False, False, False, False, False, False,\n",
              "                    False, False, False, False, False, False, False, False,\n",
              "                    False, False],\n",
              "        fill_value='?',\n",
              "             dtype=object),\n",
              " 'param_min_child_weight': masked_array(data=[1, 3, 5, 1, 3, 5, 1, 3, 5, 1, 3, 5, 1, 3, 5, 1, 3, 5],\n",
              "              mask=[False, False, False, False, False, False, False, False,\n",
              "                    False, False, False, False, False, False, False, False,\n",
              "                    False, False],\n",
              "        fill_value='?',\n",
              "             dtype=object),\n",
              " 'params': [{'learning_rate': 0.1, 'max_depth': 3, 'min_child_weight': 1},\n",
              "  {'learning_rate': 0.1, 'max_depth': 3, 'min_child_weight': 3},\n",
              "  {'learning_rate': 0.1, 'max_depth': 3, 'min_child_weight': 5},\n",
              "  {'learning_rate': 0.1, 'max_depth': 4, 'min_child_weight': 1},\n",
              "  {'learning_rate': 0.1, 'max_depth': 4, 'min_child_weight': 3},\n",
              "  {'learning_rate': 0.1, 'max_depth': 4, 'min_child_weight': 5},\n",
              "  {'learning_rate': 0.1, 'max_depth': 6, 'min_child_weight': 1},\n",
              "  {'learning_rate': 0.1, 'max_depth': 6, 'min_child_weight': 3},\n",
              "  {'learning_rate': 0.1, 'max_depth': 6, 'min_child_weight': 5},\n",
              "  {'learning_rate': 0.3, 'max_depth': 3, 'min_child_weight': 1},\n",
              "  {'learning_rate': 0.3, 'max_depth': 3, 'min_child_weight': 3},\n",
              "  {'learning_rate': 0.3, 'max_depth': 3, 'min_child_weight': 5},\n",
              "  {'learning_rate': 0.3, 'max_depth': 4, 'min_child_weight': 1},\n",
              "  {'learning_rate': 0.3, 'max_depth': 4, 'min_child_weight': 3},\n",
              "  {'learning_rate': 0.3, 'max_depth': 4, 'min_child_weight': 5},\n",
              "  {'learning_rate': 0.3, 'max_depth': 6, 'min_child_weight': 1},\n",
              "  {'learning_rate': 0.3, 'max_depth': 6, 'min_child_weight': 3},\n",
              "  {'learning_rate': 0.3, 'max_depth': 6, 'min_child_weight': 5}],\n",
              " 'rank_test_score': array([14, 13, 15,  4,  5, 10,  2,  3,  1,  6,  8,  7, 11,  9, 12, 18, 17,\n",
              "        16], dtype=int32),\n",
              " 'split0_test_score': array([0.79516667, 0.794     , 0.79383333, 0.79627778, 0.79611111,\n",
              "        0.796     , 0.79722222, 0.79727778, 0.79716667, 0.79672222,\n",
              "        0.79683333, 0.797     , 0.79666667, 0.79583333, 0.79666667,\n",
              "        0.79333333, 0.79372222, 0.794     ]),\n",
              " 'split1_test_score': array([0.79627778, 0.79677778, 0.79638889, 0.79905556, 0.79938889,\n",
              "        0.79838889, 0.79927778, 0.79877778, 0.79783333, 0.79683333,\n",
              "        0.79672222, 0.79722222, 0.79627778, 0.79688889, 0.79672222,\n",
              "        0.79433333, 0.79605556, 0.79422222]),\n",
              " 'split2_test_score': array([0.79238889, 0.79255556, 0.79283333, 0.79566667, 0.7955    ,\n",
              "        0.79494444, 0.796     , 0.79683333, 0.79616667, 0.79622222,\n",
              "        0.79627778, 0.79461111, 0.79711111, 0.79616667, 0.79522222,\n",
              "        0.79394444, 0.79333333, 0.7945    ]),\n",
              " 'split3_test_score': array([0.79333333, 0.79394444, 0.79322222, 0.79566667, 0.79488889,\n",
              "        0.79505556, 0.7955    , 0.79544444, 0.797     , 0.79527778,\n",
              "        0.79516667, 0.79627778, 0.79427778, 0.79483333, 0.7945    ,\n",
              "        0.79383333, 0.79311111, 0.79316667]),\n",
              " 'split4_test_score': array([0.79416667, 0.79605556, 0.7945    , 0.79694444, 0.79638889,\n",
              "        0.79588889, 0.79672222, 0.79583333, 0.79722222, 0.79683333,\n",
              "        0.79555556, 0.7965    , 0.79566667, 0.79666667, 0.79577778,\n",
              "        0.79383333, 0.79327778, 0.79394444]),\n",
              " 'std_fit_time': array([0.05732572, 0.08835071, 0.11161587, 0.11164226, 0.15693499,\n",
              "        0.2044752 , 0.07624518, 0.2591161 , 0.12157021, 0.17824195,\n",
              "        0.03682402, 0.1281156 , 0.10794496, 0.192657  , 0.17613226,\n",
              "        0.33196028, 0.16882875, 4.2823214 ]),\n",
              " 'std_score_time': array([0.00763241, 0.00345321, 0.00398428, 0.00222678, 0.0023602 ,\n",
              "        0.00385568, 0.00271056, 0.00538397, 0.00620548, 0.00326817,\n",
              "        0.00275816, 0.00323131, 0.00251325, 0.00140132, 0.00174723,\n",
              "        0.00457529, 0.00225102, 0.01223954]),\n",
              " 'std_test_score': array([0.00136101, 0.00153679, 0.00125137, 0.00125855, 0.00155532,\n",
              "        0.00124176, 0.00130762, 0.00117536, 0.00053587, 0.00059463,\n",
              "        0.00065168, 0.00091988, 0.00098319, 0.00072401, 0.00085129,\n",
              "        0.00031934, 0.00109623, 0.00044528])}"
            ]
          },
          "metadata": {
            "tags": []
          },
          "execution_count": 23
        }
      ]
    },
    {
      "cell_type": "code",
      "metadata": {
        "id": "VA5IIS221r2_",
        "colab_type": "code",
        "colab": {
          "base_uri": "https://localhost:8080/",
          "height": 104
        },
        "outputId": "ba5d6595-4bcb-4f8c-f8fa-5856cd003d83"
      },
      "source": [
        "#Print scores\n",
        "print('The optimal score on training set is {:0.3f}'.format(opt_XGBclassifier.best_score_))\n",
        "\n",
        "#Find optimal parameters\n",
        "\n",
        "print('The optimal parameters for the classifier are:')\n",
        "print(opt_XGBclassifier.best_params_)\n",
        "\n",
        "#Fit performance on the test set\n",
        "XGBclassifier_final=opt_XGBclassifier.best_estimator_\n",
        "y_pred_final=XGBclassifier_final.predict(X_test)\n",
        "print(\"Model Accuray with optimal parameters: {:.2f}%\".format(100*XGBclassifier_final.score(X_test, y_test)))\n",
        "print(\"The  AUC score is {:.2f}\".format(roc_auc_score(y_test,y_pred_final)))\n"
      ],
      "execution_count": 24,
      "outputs": [
        {
          "output_type": "stream",
          "text": [
            "The optimal score on training set is 0.797\n",
            "The optimal parameters for the classifier are:\n",
            "{'learning_rate': 0.1, 'max_depth': 6, 'min_child_weight': 5}\n",
            "Model Accuray with optimal parameters: 79.73%\n",
            "The  AUC score is 0.79\n"
          ],
          "name": "stdout"
        }
      ]
    },
    {
      "cell_type": "markdown",
      "metadata": {
        "id": "OcPD4J9H1r3F",
        "colab_type": "text"
      },
      "source": [
        "## Further Optimization: early stopping and computational efficiency\n",
        "\n",
        "We see that we have slightly improved our performance. The default parameters work pretty well. Here, we have used relatively small ensembles (100) to make things faster. In practice, it is worth using much bigger ensembles, in which case overfitting and optimization are likely to have larger effects.\n",
        "\n",
        "Following this very nice blog post, [https://jessesw.com/XG-Boost/](https://jessesw.com/XG-Boost/), we can do some further optimization of the XGBoost algorithm. Part of this is computational and has to do with how we interface with XGBoost, and part will be due to another regularization technique that we discussed in the gradient descent chapter: *early stopping*. Early stopping is now considered one of the most important regularization techniques. The basic idea behind it is to just stop the gradient descent once some measure of error stops going down significantly. \n",
        "\n",
        "You are invited to play with the code and experiment with this yourself.\n"
      ]
    }
  ]
}