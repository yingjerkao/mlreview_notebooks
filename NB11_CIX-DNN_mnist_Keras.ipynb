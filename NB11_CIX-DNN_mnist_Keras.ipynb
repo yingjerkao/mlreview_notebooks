{
  "nbformat": 4,
  "nbformat_minor": 0,
  "metadata": {
    "kernelspec": {
      "display_name": "Python 3",
      "language": "python",
      "name": "python3"
    },
    "language_info": {
      "codemirror_mode": {
        "name": "ipython",
        "version": 3
      },
      "file_extension": ".py",
      "mimetype": "text/x-python",
      "name": "python",
      "nbconvert_exporter": "python",
      "pygments_lexer": "ipython3",
      "version": "3.7.1"
    },
    "colab": {
      "name": "NB11_CIX-DNN_mnist_Keras.ipynb",
      "provenance": []
    }
  },
  "cells": [
    {
      "cell_type": "markdown",
      "metadata": {
        "id": "ZiT265Q6yny3",
        "colab_type": "text"
      },
      "source": [
        "# Notebook 11: Introduction to Deep Neural Networks with Keras"
      ]
    },
    {
      "cell_type": "markdown",
      "metadata": {
        "id": "Ok5FiEhkyny5",
        "colab_type": "text"
      },
      "source": [
        "## Learning Goals\n",
        "The goal of this notebook is to introduce deep neural networks (DNNs) using the high-level Keras package. The reader will become familiar with how to choose an architecture, cost function, and optimizer in Keras. We will also learn how to train neural networks.\n",
        "\n",
        "\n",
        "# MNIST with Keras\n",
        "\n",
        "We will once again work with the MNIST dataset of hand written digits introduced in *Notebook 7: Logistic Regression (MNIST)*. The goal is to find a statistical model which recognizes and distinguishes between the ten handwritten digits (0-9).\n",
        "\n",
        "The MNIST dataset comprises $70000$ handwritten digits, each of which comes in a square image, divided into a $28\\times 28$ pixel grid. Every pixel can take on $256$ nuances of the gray color, interpolating between white and black, and hence each data point assumes any value in the set $\\{0,1,\\dots,255\\}$. Since there are $10$ categories in the problem, corresponding to the ten digits, this problem represents a generic classification task. \n",
        "\n",
        "In this Notebook, we show how to use the Keras python package to tackle the MNIST problem with the help of deep neural networks.\n",
        "\n",
        "The following code is a slight modification of a Keras tutorial, see [https://github.com/fchollet/keras/blob/master/examples/mnist_cnn.py](https://github.com/fchollet/keras/blob/master/examples/mnist_cnn.py). We invite the reader to read Sec. IX of the review to acquire a broad understanding of what the separate parts of the code do."
      ]
    },
    {
      "cell_type": "code",
      "metadata": {
        "id": "6TqofJeDyny8",
        "colab_type": "code",
        "colab": {}
      },
      "source": [
        "from __future__ import print_function\n",
        "import sklearn\n",
        "# suppress tensorflow compilation warnings\n",
        "import os\n",
        "os.environ['KMP_DUPLICATE_LIB_OK']='True'\n",
        "import tensorflow as tf\n",
        "from tensorflow import keras\n",
        "os.environ['TF_CPP_MIN_LOG_LEVEL'] = '2'\n",
        "import numpy as np\n",
        "seed=0\n",
        "np.random.seed(seed) # fix random seed\n",
        "tf.random.set_seed(seed)\n",
        "import matplotlib.pyplot as plt"
      ],
      "execution_count": 0,
      "outputs": []
    },
    {
      "cell_type": "markdown",
      "metadata": {
        "id": "maUl5PFnynzM",
        "colab_type": "text"
      },
      "source": [
        "## Structure of the Procedure\n",
        "\n",
        "Constructing a Deep Neural Network to solve ML problems is a multiple-stage process. Quite generally, one can identify the key steps as follows:\n",
        "\n",
        "* ***step 1:*** Load and process the data\n",
        "* ***step 2:*** Define the model and its architecture\n",
        "* ***step 3:*** Choose the optimizer and the cost function\n",
        "* ***step 4:*** Train the model \n",
        "* ***step 5:*** Evaluate the model performance on the *unseen* test data\n",
        "* ***step 6:*** Modify the hyperparameters to optimize performance for the specific data set\n",
        "\n",
        "We would like to emphasize that, while it is always possible to view steps 1-5 as independent of the particular task we are trying to solve, it is only when they are put together in ***step 6*** that the real gain of using Deep Learning is revealed, compared to less sophisticated methods such as the regression models or bagging, described in Secs. VII and VIII of the review. With this remark in mind, we shall focus predominantly on steps 1-5 below. We show how one can use grid search methods to find optimal hyperparameters in ***step 6***."
      ]
    },
    {
      "cell_type": "markdown",
      "metadata": {
        "id": "ScTza_-uynzN",
        "colab_type": "text"
      },
      "source": [
        "### Step 1: Load and Process the Data\n",
        "\n",
        "Keras can conveniently download the MNIST data from the web. All we need to do is import the `mnist` module and use the `load_data()` class, and it will create the training and test data sets or us.\n",
        "\n",
        "The MNIST set has pre-defined test and training sets, in order to facilitate the comparison of the performance of different models on the data.\n",
        "\n",
        "Once we have loaded the data, we need to format it in the correct shape. This differs from one package to the other and, as we see in the case of Keras, it can even be different depending on the backend used.\n",
        "\n",
        "While choosing the correct `datatype` can help improve the computational speed, we emphasize the rescaling step, which is necessary to avoid large variations in the minimal and maximal possible values of each feature. In other words, we want to make sure a feature is not being over-represented just because it is \"large\".\n",
        "\n",
        "Last, we cast the label vectors $y$ to binary class matrices (a.k.a. one-hot format), as explained in Sec. VII on SoftMax regression."
      ]
    },
    {
      "cell_type": "code",
      "metadata": {
        "id": "PuSmDUtvynzP",
        "colab_type": "code",
        "colab": {
          "base_uri": "https://localhost:8080/",
          "height": 414
        },
        "outputId": "f974606b-6aad-4a48-bef2-fdae4ff87aed"
      },
      "source": [
        "from keras.datasets import mnist\n",
        "\n",
        "# input image dimensions\n",
        "num_classes = 10 # 10 digits\n",
        "\n",
        "img_rows, img_cols = 28, 28 # number of pixels \n",
        "\n",
        "# the data, shuffled and split between train and test sets\n",
        "(X_train, Y_train), (X_test, Y_test) = mnist.load_data()\n",
        "\n",
        "# reshape data, depending on Keras backend\n",
        "X_train = X_train.reshape(X_train.shape[0], img_rows*img_cols)\n",
        "X_test = X_test.reshape(X_test.shape[0], img_rows*img_cols)\n",
        "    \n",
        "# cast floats to single precesion\n",
        "X_train = X_train.astype('float32')\n",
        "X_test = X_test.astype('float32')\n",
        "\n",
        "# rescale data in interval [0,1]\n",
        "X_train /= 255\n",
        "X_test /= 255\n",
        "\n",
        "# look at an example of data point\n",
        "print('an example of a data point with label', Y_train[20])\n",
        "plt.matshow(X_train[20,:].reshape(28,28),cmap='binary')\n",
        "plt.show()\n",
        "\n",
        "# convert class vectors to binary class matrices\n",
        "Y_train = keras.utils.to_categorical(Y_train, num_classes)\n",
        "Y_test = keras.utils.to_categorical(Y_test, num_classes)\n",
        "\n",
        "print('X_train shape:', X_train.shape)\n",
        "print('Y_train shape:', Y_train.shape)\n",
        "print()\n",
        "print(X_train.shape[0], 'train samples')\n",
        "print(X_test.shape[0], 'test samples')"
      ],
      "execution_count": 4,
      "outputs": [
        {
          "output_type": "stream",
          "text": [
            "Downloading data from https://s3.amazonaws.com/img-datasets/mnist.npz\n",
            "11493376/11490434 [==============================] - 2s 0us/step\n",
            "an example of a data point with label 4\n"
          ],
          "name": "stdout"
        },
        {
          "output_type": "display_data",
          "data": {
            "image/png": "[encoded data removed]",
            "text/plain": [
              "<Figure size 288x288 with 1 Axes>"
            ]
          },
          "metadata": {
            "tags": [],
            "needs_background": "light"
          }
        },
        {
          "output_type": "stream",
          "text": [
            "X_train shape: (60000, 784)\n",
            "Y_train shape: (60000, 10)\n",
            "\n",
            "60000 train samples\n",
            "10000 test samples\n"
          ],
          "name": "stdout"
        }
      ]
    },
    {
      "cell_type": "markdown",
      "metadata": {
        "id": "f9zCv4HfynzZ",
        "colab_type": "text"
      },
      "source": [
        "### Step 2: Define the Neural Net and its Architecture\n",
        "\n",
        "We can now move on to construct our deep neural net. We shall use Keras's `Sequential()` class to instantiate a model, and will add different deep layers one by one.\n",
        "\n",
        "At this stage, we refrain from using convolutional layers. This is done further below.\n",
        "\n",
        "Let us create an instance of Keras' `Sequential()` class, called `model`. As the name suggests, this class allows us to build DNNs layer by layer. We use the `add()` method to attach layers to our model. For the purposes of our introductory example, it suffices to focus on `Dense` layers for simplicity. Every `Dense()` layer accepts as its first required argument an integer which specifies the number of neurons. The type of activation function for the layer is defined using the `activation` optional argument, the input of which is the name of the activation function in `string` format. Examples include `relu`, `tanh`, `elu`, `sigmoid`, `softmax`. \n",
        "\n",
        "In order for our DNN to work properly, we have to make sure that the numbers of input and output neurons for each layer match. Therefore, we specify the shape of the input in the first layer of the model explicitly using the optional argument `input_shape=(N_features,)`. The sequential construction of the model then allows Keras to infer the correct input/output dimensions of all hidden layers automatically. Hence, we only need to specify the size of the softmax output layer to match the number of categories."
      ]
    },
    {
      "cell_type": "code",
      "metadata": {
        "id": "X-wUS9LUynza",
        "colab_type": "code",
        "colab": {
          "base_uri": "https://localhost:8080/",
          "height": 34
        },
        "outputId": "ee79d529-7e3c-4dcd-d91b-ab34aa1a2d3e"
      },
      "source": [
        "from keras.models import Sequential\n",
        "from keras.layers import Dense, Dropout, Flatten\n",
        "from keras.layers import Conv2D, MaxPooling2D\n",
        "\n",
        "\n",
        "def create_DNN():\n",
        "    # instantiate model\n",
        "    model = Sequential()\n",
        "    # add a dense all-to-all relu layer\n",
        "    model.add(Dense(400,input_shape=(img_rows*img_cols,), activation='relu'))\n",
        "    # add a dense all-to-all relu layer\n",
        "    model.add(Dense(100, activation='relu'))\n",
        "    # apply dropout with rate 0.5\n",
        "    model.add(Dropout(0.5))\n",
        "    # soft-max layer\n",
        "    model.add(Dense(num_classes, activation='softmax'))\n",
        "    \n",
        "    return model\n",
        "\n",
        "print('Model architecture created successfully!')"
      ],
      "execution_count": 21,
      "outputs": [
        {
          "output_type": "stream",
          "text": [
            "Model architecture created successfully!\n"
          ],
          "name": "stdout"
        }
      ]
    },
    {
      "cell_type": "markdown",
      "metadata": {
        "id": "jkhOxP2Bynzi",
        "colab_type": "text"
      },
      "source": [
        "### Step 3: Choose the Optimizer and the Cost Function\n",
        "\n",
        "Next, we choose the loss function according to which to train the DNN. For classification problems, this is the cross entropy, and since the output data was cast in categorical form, we choose the `categorical_crossentropy` defined in Keras' `losses` module. Depending on the problem of interest one can pick any other suitable loss function. To optimize the weights of the net, we choose SGD. This algorithm is already available to use under Keras' `optimizers` module, but we could use `Adam()` or any other built-in one as well. The parameters for the optimizer, such as `lr` (learning rate) or `momentum` are passed using the corresponding optional arguments of the `SGD()` function. All available arguments can be found in Keras' online documentation at [https://keras.io/](https://keras.io/). While the loss function and the optimizer are essential for the training procedure, to test the performance of the model one may want to look at a particular `metric` of performance. For instance, in categorical tasks one typically looks at their `accuracy`, which is defined as the percentage of correctly classified data points. To complete the definition of our model, we use the `compile()` method, with optional arguments for the `optimizer`, `loss`, and the validation `metric` as follows:"
      ]
    },
    {
      "cell_type": "code",
      "metadata": {
        "id": "WdxxAU7hynzj",
        "colab_type": "code",
        "colab": {
          "base_uri": "https://localhost:8080/",
          "height": 34
        },
        "outputId": "d83b5484-f73f-42b6-dc94-0b4e30c20bc8"
      },
      "source": [
        "def compile_model(optimizer=keras.optimizers.Adam()):\n",
        "    # create the mode\n",
        "    model=create_DNN()\n",
        "    # compile the model\n",
        "    model.compile(loss=keras.losses.categorical_crossentropy,\n",
        "                  optimizer=optimizer,\n",
        "                  metrics=['accuracy'])\n",
        "    return model\n",
        "\n",
        "print('Model compiled successfully and ready to be trained.')"
      ],
      "execution_count": 22,
      "outputs": [
        {
          "output_type": "stream",
          "text": [
            "Model compiled successfully and ready to be trained.\n"
          ],
          "name": "stdout"
        }
      ]
    },
    {
      "cell_type": "markdown",
      "metadata": {
        "id": "bSXnvt25ynzr",
        "colab_type": "text"
      },
      "source": [
        "### Step 4: Train the model\n",
        "\n",
        "We train our DNN in minibatches, the advantages of which were explained in Sec. IV. \n",
        "\n",
        "Shuffling the training data during training improves stability of the model. Thus, we train over a number of training epochs. \n",
        "\n",
        "Training the DNN is a one-liner using the `fit()` method of the `Sequential` class. The first two required arguments are the training input and output data. As optional arguments, we specify the mini-`batch_size`, the number of training `epochs`, and the test or `validation_data`. To monitor the training procedure for every epoch, we set `verbose=True`. "
      ]
    },
    {
      "cell_type": "code",
      "metadata": {
        "id": "Fdjiwndiynzt",
        "colab_type": "code",
        "colab": {
          "base_uri": "https://localhost:8080/",
          "height": 382
        },
        "outputId": "811181e6-2836-48cf-e28f-874f8decc073"
      },
      "source": [
        "# training parameters\n",
        "batch_size = 64\n",
        "epochs = 10\n",
        "\n",
        "# create the deep neural net\n",
        "model_DNN=compile_model()\n",
        "\n",
        "# train DNN and store training info in history\n",
        "history=model_DNN.fit(X_train, Y_train,\n",
        "          batch_size=batch_size,\n",
        "          epochs=epochs,\n",
        "          verbose=1,\n",
        "          validation_data=(X_test, Y_test))"
      ],
      "execution_count": 23,
      "outputs": [
        {
          "output_type": "stream",
          "text": [
            "Train on 60000 samples, validate on 10000 samples\n",
            "Epoch 1/10\n",
            "60000/60000 [==============================] - 4s 72us/step - loss: 0.3255 - accuracy: 0.9024 - val_loss: 0.1142 - val_accuracy: 0.9658\n",
            "Epoch 2/10\n",
            "60000/60000 [==============================] - 4s 69us/step - loss: 0.1333 - accuracy: 0.9621 - val_loss: 0.0959 - val_accuracy: 0.9708\n",
            "Epoch 3/10\n",
            "60000/60000 [==============================] - 4s 71us/step - loss: 0.0919 - accuracy: 0.9733 - val_loss: 0.0756 - val_accuracy: 0.9775\n",
            "Epoch 4/10\n",
            "60000/60000 [==============================] - 4s 71us/step - loss: 0.0721 - accuracy: 0.9788 - val_loss: 0.0711 - val_accuracy: 0.9783\n",
            "Epoch 5/10\n",
            "60000/60000 [==============================] - 4s 71us/step - loss: 0.0560 - accuracy: 0.9839 - val_loss: 0.0725 - val_accuracy: 0.9784\n",
            "Epoch 6/10\n",
            "60000/60000 [==============================] - 4s 70us/step - loss: 0.0454 - accuracy: 0.9862 - val_loss: 0.0735 - val_accuracy: 0.9774\n",
            "Epoch 7/10\n",
            "60000/60000 [==============================] - 4s 71us/step - loss: 0.0393 - accuracy: 0.9876 - val_loss: 0.0647 - val_accuracy: 0.9813\n",
            "Epoch 8/10\n",
            "60000/60000 [==============================] - 4s 70us/step - loss: 0.0348 - accuracy: 0.9894 - val_loss: 0.0895 - val_accuracy: 0.9777\n",
            "Epoch 9/10\n",
            "60000/60000 [==============================] - 4s 71us/step - loss: 0.0310 - accuracy: 0.9901 - val_loss: 0.0784 - val_accuracy: 0.9818\n",
            "Epoch 10/10\n",
            "60000/60000 [==============================] - 4s 71us/step - loss: 0.0254 - accuracy: 0.9921 - val_loss: 0.0804 - val_accuracy: 0.9801\n"
          ],
          "name": "stdout"
        }
      ]
    },
    {
      "cell_type": "markdown",
      "metadata": {
        "id": "FUaYiDmoynz1",
        "colab_type": "text"
      },
      "source": [
        "### Step 5: Evaluate the Model Performance on the *Unseen* Test Data\n",
        "\n",
        "Next, we evaluate the model and read of the loss on the test data, and its accuracy using the `evaluate()` method."
      ]
    },
    {
      "cell_type": "code",
      "metadata": {
        "id": "j6xICZwQynz2",
        "colab_type": "code",
        "colab": {
          "base_uri": "https://localhost:8080/",
          "height": 610
        },
        "outputId": "69aa45c8-c64c-42a1-c2eb-9faea5d489ad"
      },
      "source": [
        "# evaluate model\n",
        "score = model_DNN.evaluate(X_test, Y_test, verbose=1)\n",
        "\n",
        "# print performance\n",
        "print()\n",
        "print('Test loss:', score[0])\n",
        "print('Test accuracy:', score[1])\n",
        "\n",
        "# look into training history\n",
        "\n",
        "# summarize history for accuracy\n",
        "plt.plot(history.history['accuracy'])\n",
        "plt.plot(history.history['val_accuracy'])\n",
        "plt.ylabel('model accuracy')\n",
        "plt.xlabel('epoch')\n",
        "plt.legend(['train', 'test'], loc='best')\n",
        "plt.show()\n",
        "\n",
        "# summarize history for loss\n",
        "plt.plot(history.history['loss'])\n",
        "plt.plot(history.history['val_loss'])\n",
        "plt.ylabel('model loss')\n",
        "plt.xlabel('epoch')\n",
        "plt.legend(['train', 'test'], loc='best')\n",
        "plt.show()"
      ],
      "execution_count": 24,
      "outputs": [
        {
          "output_type": "stream",
          "text": [
            "10000/10000 [==============================] - 0s 43us/step\n",
            "\n",
            "Test loss: 0.08036996754764014\n",
            "Test accuracy: 0.9800999760627747\n"
          ],
          "name": "stdout"
        },
        {
          "output_type": "display_data",
          "data": {
            "image/png": "[encoded data removed]",
            "text/plain": [
              "<Figure size 432x288 with 1 Axes>"
            ]
          },
          "metadata": {
            "tags": [],
            "needs_background": "light"
          }
        },
        {
          "output_type": "display_data",
          "data": {
            "image/png": "[encoded data removed]",
            "text/plain": [
              "<Figure size 432x288 with 1 Axes>"
            ]
          },
          "metadata": {
            "tags": [],
            "needs_background": "light"
          }
        }
      ]
    },
    {
      "cell_type": "markdown",
      "metadata": {
        "collapsed": true,
        "id": "IK9rpUU3ynz-",
        "colab_type": "text"
      },
      "source": [
        "### Step 6: Modify the Hyperparameters to Optimize Performance of the Model\n",
        "\n",
        "Last, we show how to use the grid search option of scikit-learn to optimize the \n",
        "hyperparameters of our model. An excellent blog on this by Jason Brownlee can be found on [https://machinelearningmastery.com/grid-search-hyperparameters-deep-learning-models-python-keras/](https://machinelearningmastery.com/grid-search-hyperparameters-deep-learning-models-python-keras/)."
      ]
    },
    {
      "cell_type": "code",
      "metadata": {
        "id": "ohFP2JFsyn0B",
        "colab_type": "code",
        "colab": {
          "base_uri": "https://localhost:8080/",
          "height": 1000
        },
        "outputId": "55e163c4-f32b-4dd5-c3f1-127aa59b94fc"
      },
      "source": [
        "from sklearn.model_selection import GridSearchCV\n",
        "from keras.wrappers.scikit_learn import KerasClassifier\n",
        "\n",
        "# call Keras scikit wrapper\n",
        "model_gridsearch = KerasClassifier(build_fn=compile_model, \n",
        "                        epochs=1, \n",
        "                        batch_size=batch_size, \n",
        "                        verbose=1)\n",
        "\n",
        "# list of allowed optional arguments for the optimizer, see `compile_model()`\n",
        "optimizer = ['SGD', 'RMSprop', 'Adagrad', 'Adadelta', 'Adam', 'Adamax', 'Nadam']\n",
        "# define parameter dictionary\n",
        "param_grid = dict(optimizer=optimizer)\n",
        "# call scikit grid search module\n",
        "grid = GridSearchCV(estimator=model_gridsearch, param_grid=param_grid, n_jobs=1, cv=4)\n",
        "grid_result = grid.fit(X_train,Y_train)\n",
        "\n",
        "# summarize results\n",
        "print(\"Best: %f using %s\" % (grid_result.best_score_, grid_result.best_params_))\n",
        "means = grid_result.cv_results_['mean_test_score']\n",
        "stds = grid_result.cv_results_['std_test_score']\n",
        "params = grid_result.cv_results_['params']\n",
        "for mean, stdev, param in zip(means, stds, params):\n",
        "    print(\"%f (%f) with: %r\" % (mean, stdev, param))\n"
      ],
      "execution_count": 26,
      "outputs": [
        {
          "output_type": "stream",
          "text": [
            "Epoch 1/1\n",
            "45000/45000 [==============================] - 3s 72us/step - loss: 1.1158 - accuracy: 0.6616\n",
            "15000/15000 [==============================] - 0s 29us/step\n",
            "Epoch 1/1\n",
            "45000/45000 [==============================] - 3s 71us/step - loss: 1.1541 - accuracy: 0.6542\n",
            "15000/15000 [==============================] - 0s 28us/step\n",
            "Epoch 1/1\n",
            "45000/45000 [==============================] - 3s 70us/step - loss: 1.1650 - accuracy: 0.6499\n",
            "15000/15000 [==============================] - 0s 28us/step\n",
            "Epoch 1/1\n",
            "45000/45000 [==============================] - 3s 70us/step - loss: 1.1397 - accuracy: 0.6593\n",
            "15000/15000 [==============================] - 0s 28us/step\n",
            "Epoch 1/1\n",
            "45000/45000 [==============================] - 4s 92us/step - loss: 0.3448 - accuracy: 0.8996\n",
            "15000/15000 [==============================] - 0s 28us/step\n",
            "Epoch 1/1\n",
            "45000/45000 [==============================] - 4s 92us/step - loss: 0.3431 - accuracy: 0.8991\n",
            "15000/15000 [==============================] - 0s 28us/step\n",
            "Epoch 1/1\n",
            "45000/45000 [==============================] - 4s 93us/step - loss: 0.3518 - accuracy: 0.8975\n",
            "15000/15000 [==============================] - 0s 30us/step\n",
            "Epoch 1/1\n",
            "45000/45000 [==============================] - 4s 98us/step - loss: 0.3413 - accuracy: 0.8982\n",
            "15000/15000 [==============================] - 0s 30us/step\n",
            "Epoch 1/1\n",
            "45000/45000 [==============================] - 4s 91us/step - loss: 0.3275 - accuracy: 0.9015\n",
            "15000/15000 [==============================] - 0s 29us/step\n",
            "Epoch 1/1\n",
            "45000/45000 [==============================] - 4s 89us/step - loss: 0.3201 - accuracy: 0.9065\n",
            "15000/15000 [==============================] - 0s 28us/step\n",
            "Epoch 1/1\n",
            "45000/45000 [==============================] - 4s 88us/step - loss: 0.3379 - accuracy: 0.9021\n",
            "15000/15000 [==============================] - 0s 29us/step\n",
            "Epoch 1/1\n",
            "45000/45000 [==============================] - 4s 92us/step - loss: 0.3229 - accuracy: 0.9057\n",
            "15000/15000 [==============================] - 0s 30us/step\n",
            "Epoch 1/1\n",
            "45000/45000 [==============================] - 5s 120us/step - loss: 0.3668 - accuracy: 0.8915\n",
            "15000/15000 [==============================] - 0s 28us/step\n",
            "Epoch 1/1\n",
            "45000/45000 [==============================] - 5s 119us/step - loss: 0.3616 - accuracy: 0.8925\n",
            "15000/15000 [==============================] - 0s 28us/step\n",
            "Epoch 1/1\n",
            "45000/45000 [==============================] - 5s 116us/step - loss: 0.3607 - accuracy: 0.8932\n",
            "15000/15000 [==============================] - 0s 28us/step\n",
            "Epoch 1/1\n",
            "45000/45000 [==============================] - 5s 118us/step - loss: 0.3586 - accuracy: 0.8951\n",
            "15000/15000 [==============================] - 0s 28us/step\n",
            "Epoch 1/1\n",
            "45000/45000 [==============================] - 5s 102us/step - loss: 0.3644 - accuracy: 0.8932\n",
            "15000/15000 [==============================] - 0s 28us/step\n",
            "Epoch 1/1\n",
            "45000/45000 [==============================] - 5s 105us/step - loss: 0.3634 - accuracy: 0.8941\n",
            "15000/15000 [==============================] - 0s 27us/step\n",
            "Epoch 1/1\n",
            "45000/45000 [==============================] - 5s 102us/step - loss: 0.3634 - accuracy: 0.8927\n",
            "15000/15000 [==============================] - 0s 28us/step\n",
            "Epoch 1/1\n",
            "45000/45000 [==============================] - 5s 102us/step - loss: 0.3556 - accuracy: 0.8942\n",
            "15000/15000 [==============================] - 0s 28us/step\n",
            "Epoch 1/1\n",
            "45000/45000 [==============================] - 4s 96us/step - loss: 0.4012 - accuracy: 0.8816\n",
            "15000/15000 [==============================] - 0s 29us/step\n",
            "Epoch 1/1\n",
            "45000/45000 [==============================] - 4s 94us/step - loss: 0.4108 - accuracy: 0.8779\n",
            "15000/15000 [==============================] - 0s 29us/step\n",
            "Epoch 1/1\n",
            "45000/45000 [==============================] - 4s 95us/step - loss: 0.4054 - accuracy: 0.8813\n",
            "15000/15000 [==============================] - 0s 28us/step\n",
            "Epoch 1/1\n",
            "45000/45000 [==============================] - 4s 96us/step - loss: 0.4046 - accuracy: 0.8809\n",
            "15000/15000 [==============================] - 0s 28us/step\n",
            "Epoch 1/1\n",
            "45000/45000 [==============================] - 5s 114us/step - loss: 0.3085 - accuracy: 0.9080\n",
            "15000/15000 [==============================] - 0s 29us/step\n",
            "Epoch 1/1\n",
            "45000/45000 [==============================] - 5s 111us/step - loss: 0.3032 - accuracy: 0.9108\n",
            "15000/15000 [==============================] - 0s 28us/step\n",
            "Epoch 1/1\n",
            "45000/45000 [==============================] - 5s 116us/step - loss: 0.2931 - accuracy: 0.9134\n",
            "15000/15000 [==============================] - 0s 28us/step\n",
            "Epoch 1/1\n",
            "45000/45000 [==============================] - 5s 113us/step - loss: 0.3049 - accuracy: 0.9089\n",
            "15000/15000 [==============================] - 0s 29us/step\n",
            "Epoch 1/1\n",
            "60000/60000 [==============================] - 6s 96us/step - loss: 0.3016 - accuracy: 0.9123\n",
            "Best: 0.955300 using {'optimizer': 'RMSprop'}\n",
            "0.872683 (0.005255) with: {'optimizer': 'SGD'}\n",
            "0.955300 (0.001334) with: {'optimizer': 'RMSprop'}\n",
            "0.953133 (0.002985) with: {'optimizer': 'Adagrad'}\n",
            "0.948967 (0.004193) with: {'optimizer': 'Adadelta'}\n",
            "0.954067 (0.002671) with: {'optimizer': 'Adam'}\n",
            "0.947600 (0.001270) with: {'optimizer': 'Adamax'}\n",
            "0.952783 (0.012720) with: {'optimizer': 'Nadam'}\n"
          ],
          "name": "stdout"
        }
      ]
    },
    {
      "cell_type": "markdown",
      "metadata": {
        "id": "gAqpYNMMyn0I",
        "colab_type": "text"
      },
      "source": [
        "## Creating Convolutional Neural Nets with Keras\n",
        "\n",
        "We have so far considered each MNIST data sample as a $(28\\times 28,)$-long 1d vector. This approach neglects any spatial structure in the image. On the other hand, we do know that in every one of the hand-written digits there are *local* spatial correlations between the pixels, which we would like to take advantage of to improve the accuracy of our classification model. To this end, we first need to reshape the training and test input data as follows"
      ]
    },
    {
      "cell_type": "code",
      "metadata": {
        "id": "SEdzAXT3yn0J",
        "colab_type": "code",
        "colab": {},
        "outputId": "99ff5bf1-7aea-4e86-df98-d67800098401"
      },
      "source": [
        "# reshape data, depending on Keras backend\n",
        "if keras.backend.image_data_format() == 'channels_first':\n",
        "    X_train = X_train.reshape(X_train.shape[0], 1, img_rows, img_cols)\n",
        "    X_test = X_test.reshape(X_test.shape[0], 1, img_rows, img_cols)\n",
        "    input_shape = (1, img_rows, img_cols)\n",
        "else:\n",
        "    X_train = X_train.reshape(X_train.shape[0], img_rows, img_cols, 1)\n",
        "    X_test = X_test.reshape(X_test.shape[0], img_rows, img_cols, 1)\n",
        "    input_shape = (img_rows, img_cols, 1)\n",
        "    \n",
        "print('X_train shape:', X_train.shape)\n",
        "print('Y_train shape:', Y_train.shape)\n",
        "print()\n",
        "print(X_train.shape[0], 'train samples')\n",
        "print(X_test.shape[0], 'test samples')"
      ],
      "execution_count": 0,
      "outputs": [
        {
          "output_type": "stream",
          "text": [
            "X_train shape: (60000, 28, 28, 1)\n",
            "Y_train shape: (60000, 10)\n",
            "\n",
            "60000 train samples\n",
            "10000 test samples\n"
          ],
          "name": "stdout"
        }
      ]
    },
    {
      "cell_type": "markdown",
      "metadata": {
        "id": "yGb564Dryn0Q",
        "colab_type": "text"
      },
      "source": [
        "One can ask the question of whether a neural net can learn to recognize such local patterns. As we saw in Sec. X of the review, this can be achieved by using convolutional layers. Luckily, all we need to do is change the architecture of our DNN, i.e. introduce small changes to the function `create_model()`. We can also merge **Step 2** and **Step 3** for convenience: "
      ]
    },
    {
      "cell_type": "code",
      "metadata": {
        "id": "ANe__52ayn0R",
        "colab_type": "code",
        "colab": {}
      },
      "source": [
        "def create_CNN():\n",
        "    # instantiate model\n",
        "    model = Sequential()\n",
        "    # add first convolutional layer with 10 filters (dimensionality of output space)\n",
        "    model.add(Conv2D(10, kernel_size=(5, 5),\n",
        "                     activation='relu',\n",
        "                     input_shape=input_shape))\n",
        "    # add 2D pooling layer\n",
        "    model.add(MaxPooling2D(pool_size=(2, 2)))\n",
        "    # add second convolutional layer with 20 filters\n",
        "    model.add(Conv2D(20, (5, 5), activation='relu'))\n",
        "    # apply dropout with rate 0.5\n",
        "    model.add(Dropout(0.5))\n",
        "    # add 2D pooling layer\n",
        "    model.add(MaxPooling2D(pool_size=(2, 2)))\n",
        "    # flatten data\n",
        "    model.add(Flatten())\n",
        "    # add a dense all-to-all relu layer\n",
        "    model.add(Dense(20*4*4, activation='relu'))\n",
        "    # apply dropout with rate 0.5\n",
        "    model.add(Dropout(0.5))\n",
        "    # soft-max layer\n",
        "    model.add(Dense(num_classes, activation='softmax'))\n",
        "    \n",
        "    # compile the model\n",
        "    model.compile(loss=keras.losses.categorical_crossentropy,\n",
        "                  optimizer='Adam',\n",
        "                  metrics=['accuracy'])\n",
        "    \n",
        "    return model"
      ],
      "execution_count": 0,
      "outputs": []
    },
    {
      "cell_type": "markdown",
      "metadata": {
        "id": "HSQwvPGUyn0X",
        "colab_type": "text"
      },
      "source": [
        "Training the deep conv net (**Step 4**) and evaluating its performance (**Step 6**) proceeds exactly as before:"
      ]
    },
    {
      "cell_type": "code",
      "metadata": {
        "id": "fVlm8n4Jyn0Z",
        "colab_type": "code",
        "colab": {},
        "outputId": "85fa0c94-bcd0-433b-97ea-ebbd05141b20"
      },
      "source": [
        "# training parameters\n",
        "batch_size = 64\n",
        "epochs = 10\n",
        "\n",
        "# create the deep conv net\n",
        "model_CNN=create_CNN()\n",
        "\n",
        "# train CNN\n",
        "model_CNN.fit(X_train, Y_train,\n",
        "          batch_size=batch_size,\n",
        "          epochs=epochs,\n",
        "          verbose=1,\n",
        "          validation_data=(X_test, Y_test))\n",
        "\n",
        "# evaliate model\n",
        "score = model_CNN.evaluate(X_test, Y_test, verbose=1)\n",
        "\n",
        "# print performance\n",
        "print()\n",
        "print('Test loss:', score[0])\n",
        "print('Test accuracy:', score[1])"
      ],
      "execution_count": 0,
      "outputs": [
        {
          "output_type": "stream",
          "text": [
            "Train on 60000 samples, validate on 10000 samples\n",
            "Epoch 1/10\n",
            "60000/60000 [==============================] - 39s 646us/step - loss: 0.2610 - acc: 0.9183 - val_loss: 0.0750 - val_acc: 0.9825\n",
            "Epoch 2/10\n",
            "60000/60000 [==============================] - 32s 533us/step - loss: 0.0932 - acc: 0.9709 - val_loss: 0.0551 - val_acc: 0.9876\n",
            "Epoch 3/10\n",
            "60000/60000 [==============================] - 32s 533us/step - loss: 0.0689 - acc: 0.9789 - val_loss: 0.0408 - val_acc: 0.9893\n",
            "Epoch 4/10\n",
            "60000/60000 [==============================] - 32s 533us/step - loss: 0.0622 - acc: 0.9808 - val_loss: 0.0378 - val_acc: 0.9907\n",
            "Epoch 5/10\n",
            "60000/60000 [==============================] - 32s 537us/step - loss: 0.0531 - acc: 0.9837 - val_loss: 0.0333 - val_acc: 0.9915\n",
            "Epoch 6/10\n",
            "60000/60000 [==============================] - 33s 554us/step - loss: 0.0495 - acc: 0.9854 - val_loss: 0.0339 - val_acc: 0.9909\n",
            "Epoch 7/10\n",
            "60000/60000 [==============================] - 39s 649us/step - loss: 0.0475 - acc: 0.9851 - val_loss: 0.0330 - val_acc: 0.9929\n",
            "Epoch 8/10\n",
            "60000/60000 [==============================] - 39s 648us/step - loss: 0.0423 - acc: 0.9870 - val_loss: 0.0289 - val_acc: 0.9931\n",
            "Epoch 9/10\n",
            "60000/60000 [==============================] - 38s 633us/step - loss: 0.0421 - acc: 0.9874 - val_loss: 0.0290 - val_acc: 0.9928\n",
            "Epoch 10/10\n",
            "60000/60000 [==============================] - 39s 646us/step - loss: 0.0374 - acc: 0.9884 - val_loss: 0.0253 - val_acc: 0.9922\n",
            "10000/10000 [==============================] - 3s 288us/step\n",
            "\n",
            "Test loss: 0.025273755778139458\n",
            "Test accuracy: 0.9922\n"
          ],
          "name": "stdout"
        }
      ]
    },
    {
      "cell_type": "code",
      "metadata": {
        "id": "JtNHY8jTyn0g",
        "colab_type": "code",
        "colab": {}
      },
      "source": [
        ""
      ],
      "execution_count": 0,
      "outputs": []
    }
  ]
}